{
 "cells": [
  {
   "cell_type": "code",
   "execution_count": 66,
   "metadata": {},
   "outputs": [],
   "source": [
    "# Bibliotecas\n",
    "# Manipulação de dados\n",
    "import pandas as pd\n",
    "import numpy as np\n",
    "\n",
    "# Gráficas\n",
    "import matplotlib.pyplot as plt\n",
    "import seaborn as sns\n",
    "\n",
    "# Modelagem ML\n",
    "from sklearn.model_selection import train_test_split\n",
    "from sklearn.metrics import classification_report, confusion_matrix, plot_roc_curve\n",
    "from sklearn.tree import DecisionTreeClassifier\n",
    "from sklearn.ensemble import RandomForestClassifier\n",
    "\n",
    "# Setando\n",
    "plt.style.use('ggplot')"
   ]
  },
  {
   "cell_type": "code",
   "execution_count": 67,
   "metadata": {},
   "outputs": [
    {
     "data": {
      "text/html": [
       "<div>\n",
       "<style scoped>\n",
       "    .dataframe tbody tr th:only-of-type {\n",
       "        vertical-align: middle;\n",
       "    }\n",
       "\n",
       "    .dataframe tbody tr th {\n",
       "        vertical-align: top;\n",
       "    }\n",
       "\n",
       "    .dataframe thead th {\n",
       "        text-align: right;\n",
       "    }\n",
       "</style>\n",
       "<table border=\"1\" class=\"dataframe\">\n",
       "  <thead>\n",
       "    <tr style=\"text-align: right;\">\n",
       "      <th></th>\n",
       "      <th>Kyphosis</th>\n",
       "      <th>Age</th>\n",
       "      <th>Number</th>\n",
       "      <th>Start</th>\n",
       "    </tr>\n",
       "  </thead>\n",
       "  <tbody>\n",
       "    <tr>\n",
       "      <th>0</th>\n",
       "      <td>absent</td>\n",
       "      <td>71</td>\n",
       "      <td>3</td>\n",
       "      <td>5</td>\n",
       "    </tr>\n",
       "    <tr>\n",
       "      <th>1</th>\n",
       "      <td>absent</td>\n",
       "      <td>158</td>\n",
       "      <td>3</td>\n",
       "      <td>14</td>\n",
       "    </tr>\n",
       "    <tr>\n",
       "      <th>2</th>\n",
       "      <td>present</td>\n",
       "      <td>128</td>\n",
       "      <td>4</td>\n",
       "      <td>5</td>\n",
       "    </tr>\n",
       "    <tr>\n",
       "      <th>3</th>\n",
       "      <td>absent</td>\n",
       "      <td>2</td>\n",
       "      <td>5</td>\n",
       "      <td>1</td>\n",
       "    </tr>\n",
       "    <tr>\n",
       "      <th>4</th>\n",
       "      <td>absent</td>\n",
       "      <td>1</td>\n",
       "      <td>4</td>\n",
       "      <td>15</td>\n",
       "    </tr>\n",
       "  </tbody>\n",
       "</table>\n",
       "</div>"
      ],
      "text/plain": [
       "  Kyphosis  Age  Number  Start\n",
       "0   absent   71       3      5\n",
       "1   absent  158       3     14\n",
       "2  present  128       4      5\n",
       "3   absent    2       5      1\n",
       "4   absent    1       4     15"
      ]
     },
     "execution_count": 67,
     "metadata": {},
     "output_type": "execute_result"
    }
   ],
   "source": [
    "# Base de dados\n",
    "df = pd.read_csv('kyphosis.csv')\n",
    "df.head()"
   ]
  },
  {
   "cell_type": "code",
   "execution_count": 68,
   "metadata": {},
   "outputs": [
    {
     "name": "stdout",
     "output_type": "stream",
     "text": [
      "<class 'pandas.core.frame.DataFrame'>\n",
      "RangeIndex: 81 entries, 0 to 80\n",
      "Data columns (total 4 columns):\n",
      " #   Column    Non-Null Count  Dtype \n",
      "---  ------    --------------  ----- \n",
      " 0   Kyphosis  81 non-null     object\n",
      " 1   Age       81 non-null     int64 \n",
      " 2   Number    81 non-null     int64 \n",
      " 3   Start     81 non-null     int64 \n",
      "dtypes: int64(3), object(1)\n",
      "memory usage: 2.7+ KB\n"
     ]
    }
   ],
   "source": [
    "# Verificando informações do dataset\n",
    "df.info()"
   ]
  },
  {
   "cell_type": "code",
   "execution_count": 69,
   "metadata": {},
   "outputs": [
    {
     "data": {
      "text/plain": [
       "Kyphosis    0\n",
       "Age         0\n",
       "Number      0\n",
       "Start       0\n",
       "dtype: int64"
      ]
     },
     "execution_count": 69,
     "metadata": {},
     "output_type": "execute_result"
    }
   ],
   "source": [
    "# Nulos no dataset\n",
    "df.isnull().sum()"
   ]
  },
  {
   "cell_type": "code",
   "execution_count": 70,
   "metadata": {},
   "outputs": [
    {
     "data": {
      "text/plain": [
       "<seaborn.axisgrid.PairGrid at 0x9b8c68bb08>"
      ]
     },
     "execution_count": 70,
     "metadata": {},
     "output_type": "execute_result"
    },
    {
     "data": {
      "image/png": "[encoded data removed]",
      "text/plain": [
       "<Figure size 613.875x540 with 12 Axes>"
      ]
     },
     "metadata": {},
     "output_type": "display_data"
    }
   ],
   "source": [
    "# Pairplot para visualizar as relações\n",
    "sns.pairplot(df, hue='Kyphosis')"
   ]
  },
  {
   "cell_type": "markdown",
   "metadata": {},
   "source": [
    "# Construção do Modelo de ML"
   ]
  },
  {
   "cell_type": "code",
   "execution_count": 71,
   "metadata": {},
   "outputs": [],
   "source": [
    "# Para arvore de decisão não precisa normalizar\n",
    "# Dividindo em X e y\n",
    "\n",
    "y = df.pop('Kyphosis')\n",
    "X = df"
   ]
  },
  {
   "cell_type": "code",
   "execution_count": 72,
   "metadata": {},
   "outputs": [],
   "source": [
    "# Divisão treino e teste\n",
    "X_train, X_test, y_train, y_test = train_test_split(X, y, test_size=0.3, random_state=42)"
   ]
  },
  {
   "cell_type": "code",
   "execution_count": 73,
   "metadata": {},
   "outputs": [],
   "source": [
    "# Utilizando modelo de Decision Tree\n",
    "dtc = DecisionTreeClassifier()"
   ]
  },
  {
   "cell_type": "code",
   "execution_count": 74,
   "metadata": {},
   "outputs": [
    {
     "data": {
      "text/plain": [
       "DecisionTreeClassifier(ccp_alpha=0.0, class_weight=None, criterion='gini',\n",
       "                       max_depth=None, max_features=None, max_leaf_nodes=None,\n",
       "                       min_impurity_decrease=0.0, min_impurity_split=None,\n",
       "                       min_samples_leaf=1, min_samples_split=2,\n",
       "                       min_weight_fraction_leaf=0.0, presort='deprecated',\n",
       "                       random_state=None, splitter='best')"
      ]
     },
     "execution_count": 74,
     "metadata": {},
     "output_type": "execute_result"
    }
   ],
   "source": [
    "dtc.fit(X_train, y_train)"
   ]
  },
  {
   "cell_type": "code",
   "execution_count": 75,
   "metadata": {},
   "outputs": [
    {
     "data": {
      "text/plain": [
       "0.72"
      ]
     },
     "execution_count": 75,
     "metadata": {},
     "output_type": "execute_result"
    }
   ],
   "source": [
    "# Acurácia de Teste\n",
    "dtc.score(X_test, y_test)"
   ]
  },
  {
   "cell_type": "code",
   "execution_count": 76,
   "metadata": {},
   "outputs": [
    {
     "data": {
      "text/plain": [
       "1.0"
      ]
     },
     "execution_count": 76,
     "metadata": {},
     "output_type": "execute_result"
    }
   ],
   "source": [
    "# Acurácia de Treino\n",
    "dtc.score(X_train, y_train)"
   ]
  },
  {
   "cell_type": "code",
   "execution_count": 77,
   "metadata": {},
   "outputs": [],
   "source": [
    "y_pred = dtc.predict(X_test)"
   ]
  },
  {
   "cell_type": "code",
   "execution_count": 78,
   "metadata": {},
   "outputs": [
    {
     "name": "stdout",
     "output_type": "stream",
     "text": [
      "              precision    recall  f1-score   support\n",
      "\n",
      "      absent       0.80      0.84      0.82        19\n",
      "     present       0.40      0.33      0.36         6\n",
      "\n",
      "    accuracy                           0.72        25\n",
      "   macro avg       0.60      0.59      0.59        25\n",
      "weighted avg       0.70      0.72      0.71        25\n",
      "\n"
     ]
    }
   ],
   "source": [
    "# Classification Report\n",
    "print(classification_report(y_test, y_pred))"
   ]
  },
  {
   "cell_type": "code",
   "execution_count": 79,
   "metadata": {},
   "outputs": [
    {
     "name": "stdout",
     "output_type": "stream",
     "text": [
      "[[16  3]\n",
      " [ 4  2]]\n"
     ]
    }
   ],
   "source": [
    "# Confusion Matrix\n",
    "print(confusion_matrix(y_test, y_pred))"
   ]
  },
  {
   "cell_type": "code",
   "execution_count": 80,
   "metadata": {},
   "outputs": [
    {
     "data": {
      "text/plain": [
       "0.84"
      ]
     },
     "execution_count": 80,
     "metadata": {},
     "output_type": "execute_result"
    }
   ],
   "source": [
    "# Resultado não foi bom, modelo sofreu overfitting\n",
    "# Podemos podar a árvore ou então usar um outro modelo.\n",
    "# Neste caso usarei Random Forest para comparar\n",
    "\n",
    "rfc = RandomForestClassifier()\n",
    "rfc.fit(X_train, y_train)\n",
    "rfc.score(X_test, y_test)"
   ]
  },
  {
   "cell_type": "code",
   "execution_count": 81,
   "metadata": {},
   "outputs": [],
   "source": [
    "y_pred_rfc = rfc.predict(X_test)"
   ]
  },
  {
   "cell_type": "code",
   "execution_count": 82,
   "metadata": {},
   "outputs": [
    {
     "name": "stdout",
     "output_type": "stream",
     "text": [
      "              precision    recall  f1-score   support\n",
      "\n",
      "      absent       0.83      1.00      0.90        19\n",
      "     present       1.00      0.33      0.50         6\n",
      "\n",
      "    accuracy                           0.84        25\n",
      "   macro avg       0.91      0.67      0.70        25\n",
      "weighted avg       0.87      0.84      0.81        25\n",
      "\n"
     ]
    }
   ],
   "source": [
    "print(classification_report(y_test, y_pred_rfc))"
   ]
  },
  {
   "cell_type": "code",
   "execution_count": 83,
   "metadata": {},
   "outputs": [
    {
     "name": "stdout",
     "output_type": "stream",
     "text": [
      "[[19  0]\n",
      " [ 4  2]]\n"
     ]
    }
   ],
   "source": [
    "print(confusion_matrix(y_test, y_pred_rfc))"
   ]
  },
  {
   "cell_type": "code",
   "execution_count": 84,
   "metadata": {},
   "outputs": [],
   "source": [
    "# Não melhorou nossos FN, mas zerou nosso FP.\n",
    "# Dependendo do balanceamento desejado podemos utilizar este classificador"
   ]
  },
  {
   "cell_type": "code",
   "execution_count": 85,
   "metadata": {},
   "outputs": [
    {
     "data": {
      "text/plain": [
       "<sklearn.metrics._plot.roc_curve.RocCurveDisplay at 0x9b8cc1f048>"
      ]
     },
     "execution_count": 85,
     "metadata": {},
     "output_type": "execute_result"
    },
    {
     "data": {
      "image/png": "[encoded data removed]",
      "text/plain": [
       "<Figure size 432x288 with 1 Axes>"
      ]
     },
     "metadata": {},
     "output_type": "display_data"
    }
   ],
   "source": [
    "# Por fim, a comparação da curva ROC\n",
    "\n",
    "plot_roc_curve(dtc, X_test, y_test)"
   ]
  },
  {
   "cell_type": "code",
   "execution_count": 86,
   "metadata": {},
   "outputs": [
    {
     "data": {
      "text/plain": [
       "<sklearn.metrics._plot.roc_curve.RocCurveDisplay at 0x9b8cc1b648>"
      ]
     },
     "execution_count": 86,
     "metadata": {},
     "output_type": "execute_result"
    },
    {
     "data": {
      "image/png": "[encoded data removed]",
      "text/plain": [
       "<Figure size 432x288 with 1 Axes>"
      ]
     },
     "metadata": {},
     "output_type": "display_data"
    }
   ],
   "source": [
    "# Por fim, a comparação da curva ROC\n",
    "\n",
    "plot_roc_curve(rfc, X_test, y_test)"
   ]
  },
  {
   "cell_type": "code",
   "execution_count": 87,
   "metadata": {},
   "outputs": [],
   "source": [
    "# Temos poucos dados, mas podemos perceber que nosso melhor resultado foi\n",
    "# com o Random Forest.\n",
    "# Podemos ver claramente a curva ROC."
   ]
  },
  {
   "cell_type": "markdown",
   "metadata": {},
   "source": [
    "# Exemplo de plot da árvore de decisão"
   ]
  },
  {
   "cell_type": "code",
   "execution_count": 88,
   "metadata": {},
   "outputs": [],
   "source": [
    "# Para visualizar a árvore de decisão\n",
    "\n",
    "from sklearn.tree import export_graphviz\n",
    "import graphviz\n",
    "from sklearn import tree\n",
    "import pydot"
   ]
  },
  {
   "cell_type": "code",
   "execution_count": 89,
   "metadata": {},
   "outputs": [
    {
     "data": {
      "text/plain": [
       "['Age', 'Number', 'Start']"
      ]
     },
     "execution_count": 89,
     "metadata": {},
     "output_type": "execute_result"
    }
   ],
   "source": [
    "features = list(X.columns)\n",
    "features"
   ]
  },
  {
   "cell_type": "code",
   "execution_count": 90,
   "metadata": {},
   "outputs": [
    {
     "data": {
      "image/svg+xml": [
       "<?xml version=\"1.0\" encoding=\"UTF-8\" standalone=\"no\"?>\r\n",
       "<!DOCTYPE svg PUBLIC \"-//W3C//DTD SVG 1.1//EN\"\r\n",
       " \"http://www.w3.org/Graphics/SVG/1.1/DTD/svg11.dtd\">\r\n",
       "<!-- Generated by graphviz version 2.38.0 (20140413.2041)\r\n",
       " -->\r\n",
       "<!-- Title: Tree Pages: 1 -->\r\n",
       "<svg width=\"971pt\" height=\"790pt\"\r\n",
       " viewBox=\"0.00 0.00 971.00 790.00\" xmlns=\"http://www.w3.org/2000/svg\" xmlns:xlink=\"http://www.w3.org/1999/xlink\">\r\n",
       "<g id=\"graph0\" class=\"graph\" transform=\"scale(1 1) rotate(0) translate(4 786)\">\r\n",
       "<title>Tree</title>\r\n",
       "<polygon fill=\"white\" stroke=\"none\" points=\"-4,4 -4,-786 967,-786 967,4 -4,4\"/>\r\n",
       "<!-- 0 -->\r\n",
       "<g id=\"node1\" class=\"node\"><title>0</title>\r\n",
       "<polygon fill=\"none\" stroke=\"black\" points=\"591,-782 487,-782 487,-699 591,-699 591,-782\"/>\r\n",
       "<text text-anchor=\"middle\" x=\"539\" y=\"-766.8\" font-family=\"Times New Roman,serif\" font-size=\"14.00\">X[2] &lt;= 8.5</text>\r\n",
       "<text text-anchor=\"middle\" x=\"539\" y=\"-751.8\" font-family=\"Times New Roman,serif\" font-size=\"14.00\">gini = 0.316</text>\r\n",
       "<text text-anchor=\"middle\" x=\"539\" y=\"-736.8\" font-family=\"Times New Roman,serif\" font-size=\"14.00\">samples = 56</text>\r\n",
       "<text text-anchor=\"middle\" x=\"539\" y=\"-721.8\" font-family=\"Times New Roman,serif\" font-size=\"14.00\">value = [45, 11]</text>\r\n",
       "<text text-anchor=\"middle\" x=\"539\" y=\"-706.8\" font-family=\"Times New Roman,serif\" font-size=\"14.00\">class = absent</text>\r\n",
       "</g>\r\n",
       "<!-- 1 -->\r\n",
       "<g id=\"node2\" class=\"node\"><title>1</title>\r\n",
       "<polygon fill=\"none\" stroke=\"black\" points=\"502.5,-663 401.5,-663 401.5,-580 502.5,-580 502.5,-663\"/>\r\n",
       "<text text-anchor=\"middle\" x=\"452\" y=\"-647.8\" font-family=\"Times New Roman,serif\" font-size=\"14.00\">X[2] &lt;= 4.0</text>\r\n",
       "<text text-anchor=\"middle\" x=\"452\" y=\"-632.8\" font-family=\"Times New Roman,serif\" font-size=\"14.00\">gini = 0.48</text>\r\n",
       "<text text-anchor=\"middle\" x=\"452\" y=\"-617.8\" font-family=\"Times New Roman,serif\" font-size=\"14.00\">samples = 15</text>\r\n",
       "<text text-anchor=\"middle\" x=\"452\" y=\"-602.8\" font-family=\"Times New Roman,serif\" font-size=\"14.00\">value = [6, 9]</text>\r\n",
       "<text text-anchor=\"middle\" x=\"452\" y=\"-587.8\" font-family=\"Times New Roman,serif\" font-size=\"14.00\">class = present</text>\r\n",
       "</g>\r\n",
       "<!-- 0&#45;&gt;1 -->\r\n",
       "<g id=\"edge1\" class=\"edge\"><title>0&#45;&gt;1</title>\r\n",
       "<path fill=\"none\" stroke=\"black\" d=\"M508.816,-698.907C502.135,-689.923 494.991,-680.315 488.101,-671.05\"/>\r\n",
       "<polygon fill=\"black\" stroke=\"black\" points=\"490.907,-668.957 482.131,-663.021 485.289,-673.134 490.907,-668.957\"/>\r\n",
       "<text text-anchor=\"middle\" x=\"478.494\" y=\"-684.055\" font-family=\"Times New Roman,serif\" font-size=\"14.00\">True</text>\r\n",
       "</g>\r\n",
       "<!-- 12 -->\r\n",
       "<g id=\"node13\" class=\"node\"><title>12</title>\r\n",
       "<polygon fill=\"none\" stroke=\"black\" points=\"676,-663 578,-663 578,-580 676,-580 676,-663\"/>\r\n",
       "<text text-anchor=\"middle\" x=\"627\" y=\"-647.8\" font-family=\"Times New Roman,serif\" font-size=\"14.00\">X[2] &lt;= 13.5</text>\r\n",
       "<text text-anchor=\"middle\" x=\"627\" y=\"-632.8\" font-family=\"Times New Roman,serif\" font-size=\"14.00\">gini = 0.093</text>\r\n",
       "<text text-anchor=\"middle\" x=\"627\" y=\"-617.8\" font-family=\"Times New Roman,serif\" font-size=\"14.00\">samples = 41</text>\r\n",
       "<text text-anchor=\"middle\" x=\"627\" y=\"-602.8\" font-family=\"Times New Roman,serif\" font-size=\"14.00\">value = [39, 2]</text>\r\n",
       "<text text-anchor=\"middle\" x=\"627\" y=\"-587.8\" font-family=\"Times New Roman,serif\" font-size=\"14.00\">class = absent</text>\r\n",
       "</g>\r\n",
       "<!-- 0&#45;&gt;12 -->\r\n",
       "<g id=\"edge12\" class=\"edge\"><title>0&#45;&gt;12</title>\r\n",
       "<path fill=\"none\" stroke=\"black\" d=\"M569.531,-698.907C576.289,-689.923 583.515,-680.315 590.484,-671.05\"/>\r\n",
       "<polygon fill=\"black\" stroke=\"black\" points=\"593.309,-673.116 596.523,-663.021 587.715,-668.909 593.309,-673.116\"/>\r\n",
       "<text text-anchor=\"middle\" x=\"600.025\" y=\"-684.074\" font-family=\"Times New Roman,serif\" font-size=\"14.00\">False</text>\r\n",
       "</g>\r\n",
       "<!-- 2 -->\r\n",
       "<g id=\"node3\" class=\"node\"><title>2</title>\r\n",
       "<polygon fill=\"none\" stroke=\"black\" points=\"326.5,-544 229.5,-544 229.5,-461 326.5,-461 326.5,-544\"/>\r\n",
       "<text text-anchor=\"middle\" x=\"278\" y=\"-528.8\" font-family=\"Times New Roman,serif\" font-size=\"14.00\">X[0] &lt;= 130.5</text>\r\n",
       "<text text-anchor=\"middle\" x=\"278\" y=\"-513.8\" font-family=\"Times New Roman,serif\" font-size=\"14.00\">gini = 0.469</text>\r\n",
       "<text text-anchor=\"middle\" x=\"278\" y=\"-498.8\" font-family=\"Times New Roman,serif\" font-size=\"14.00\">samples = 8</text>\r\n",
       "<text text-anchor=\"middle\" x=\"278\" y=\"-483.8\" font-family=\"Times New Roman,serif\" font-size=\"14.00\">value = [5, 3]</text>\r\n",
       "<text text-anchor=\"middle\" x=\"278\" y=\"-468.8\" font-family=\"Times New Roman,serif\" font-size=\"14.00\">class = absent</text>\r\n",
       "</g>\r\n",
       "<!-- 1&#45;&gt;2 -->\r\n",
       "<g id=\"edge2\" class=\"edge\"><title>1&#45;&gt;2</title>\r\n",
       "<path fill=\"none\" stroke=\"black\" d=\"M401.204,-586.344C380.482,-572.411 356.426,-556.234 335.098,-541.894\"/>\r\n",
       "<polygon fill=\"black\" stroke=\"black\" points=\"337.015,-538.965 326.763,-536.289 333.109,-544.774 337.015,-538.965\"/>\r\n",
       "</g>\r\n",
       "<!-- 9 -->\r\n",
       "<g id=\"node10\" class=\"node\"><title>9</title>\r\n",
       "<polygon fill=\"none\" stroke=\"black\" points=\"502.5,-544 401.5,-544 401.5,-461 502.5,-461 502.5,-544\"/>\r\n",
       "<text text-anchor=\"middle\" x=\"452\" y=\"-528.8\" font-family=\"Times New Roman,serif\" font-size=\"14.00\">X[0] &lt;= 25.0</text>\r\n",
       "<text text-anchor=\"middle\" x=\"452\" y=\"-513.8\" font-family=\"Times New Roman,serif\" font-size=\"14.00\">gini = 0.245</text>\r\n",
       "<text text-anchor=\"middle\" x=\"452\" y=\"-498.8\" font-family=\"Times New Roman,serif\" font-size=\"14.00\">samples = 7</text>\r\n",
       "<text text-anchor=\"middle\" x=\"452\" y=\"-483.8\" font-family=\"Times New Roman,serif\" font-size=\"14.00\">value = [1, 6]</text>\r\n",
       "<text text-anchor=\"middle\" x=\"452\" y=\"-468.8\" font-family=\"Times New Roman,serif\" font-size=\"14.00\">class = present</text>\r\n",
       "</g>\r\n",
       "<!-- 1&#45;&gt;9 -->\r\n",
       "<g id=\"edge9\" class=\"edge\"><title>1&#45;&gt;9</title>\r\n",
       "<path fill=\"none\" stroke=\"black\" d=\"M452,-579.907C452,-571.649 452,-562.864 452,-554.302\"/>\r\n",
       "<polygon fill=\"black\" stroke=\"black\" points=\"455.5,-554.021 452,-544.021 448.5,-554.021 455.5,-554.021\"/>\r\n",
       "</g>\r\n",
       "<!-- 3 -->\r\n",
       "<g id=\"node4\" class=\"node\"><title>3</title>\r\n",
       "<polygon fill=\"none\" stroke=\"black\" points=\"212,-425 116,-425 116,-342 212,-342 212,-425\"/>\r\n",
       "<text text-anchor=\"middle\" x=\"164\" y=\"-409.8\" font-family=\"Times New Roman,serif\" font-size=\"14.00\">X[2] &lt;= 1.5</text>\r\n",
       "<text text-anchor=\"middle\" x=\"164\" y=\"-394.8\" font-family=\"Times New Roman,serif\" font-size=\"14.00\">gini = 0.5</text>\r\n",
       "<text text-anchor=\"middle\" x=\"164\" y=\"-379.8\" font-family=\"Times New Roman,serif\" font-size=\"14.00\">samples = 6</text>\r\n",
       "<text text-anchor=\"middle\" x=\"164\" y=\"-364.8\" font-family=\"Times New Roman,serif\" font-size=\"14.00\">value = [3, 3]</text>\r\n",
       "<text text-anchor=\"middle\" x=\"164\" y=\"-349.8\" font-family=\"Times New Roman,serif\" font-size=\"14.00\">class = absent</text>\r\n",
       "</g>\r\n",
       "<!-- 2&#45;&gt;3 -->\r\n",
       "<g id=\"edge3\" class=\"edge\"><title>2&#45;&gt;3</title>\r\n",
       "<path fill=\"none\" stroke=\"black\" d=\"M238.448,-460.907C229.429,-451.651 219.765,-441.732 210.486,-432.209\"/>\r\n",
       "<polygon fill=\"black\" stroke=\"black\" points=\"212.967,-429.741 203.482,-425.021 207.954,-434.626 212.967,-429.741\"/>\r\n",
       "</g>\r\n",
       "<!-- 8 -->\r\n",
       "<g id=\"node9\" class=\"node\"><title>8</title>\r\n",
       "<polygon fill=\"none\" stroke=\"black\" points=\"326,-417.5 230,-417.5 230,-349.5 326,-349.5 326,-417.5\"/>\r\n",
       "<text text-anchor=\"middle\" x=\"278\" y=\"-402.3\" font-family=\"Times New Roman,serif\" font-size=\"14.00\">gini = 0.0</text>\r\n",
       "<text text-anchor=\"middle\" x=\"278\" y=\"-387.3\" font-family=\"Times New Roman,serif\" font-size=\"14.00\">samples = 2</text>\r\n",
       "<text text-anchor=\"middle\" x=\"278\" y=\"-372.3\" font-family=\"Times New Roman,serif\" font-size=\"14.00\">value = [2, 0]</text>\r\n",
       "<text text-anchor=\"middle\" x=\"278\" y=\"-357.3\" font-family=\"Times New Roman,serif\" font-size=\"14.00\">class = absent</text>\r\n",
       "</g>\r\n",
       "<!-- 2&#45;&gt;8 -->\r\n",
       "<g id=\"edge8\" class=\"edge\"><title>2&#45;&gt;8</title>\r\n",
       "<path fill=\"none\" stroke=\"black\" d=\"M278,-460.907C278,-450.204 278,-438.615 278,-427.776\"/>\r\n",
       "<polygon fill=\"black\" stroke=\"black\" points=\"281.5,-427.667 278,-417.667 274.5,-427.667 281.5,-427.667\"/>\r\n",
       "</g>\r\n",
       "<!-- 4 -->\r\n",
       "<g id=\"node5\" class=\"node\"><title>4</title>\r\n",
       "<polygon fill=\"none\" stroke=\"black\" points=\"154.5,-306 57.5,-306 57.5,-223 154.5,-223 154.5,-306\"/>\r\n",
       "<text text-anchor=\"middle\" x=\"106\" y=\"-290.8\" font-family=\"Times New Roman,serif\" font-size=\"14.00\">X[0] &lt;= 105.5</text>\r\n",
       "<text text-anchor=\"middle\" x=\"106\" y=\"-275.8\" font-family=\"Times New Roman,serif\" font-size=\"14.00\">gini = 0.375</text>\r\n",
       "<text text-anchor=\"middle\" x=\"106\" y=\"-260.8\" font-family=\"Times New Roman,serif\" font-size=\"14.00\">samples = 4</text>\r\n",
       "<text text-anchor=\"middle\" x=\"106\" y=\"-245.8\" font-family=\"Times New Roman,serif\" font-size=\"14.00\">value = [3, 1]</text>\r\n",
       "<text text-anchor=\"middle\" x=\"106\" y=\"-230.8\" font-family=\"Times New Roman,serif\" font-size=\"14.00\">class = absent</text>\r\n",
       "</g>\r\n",
       "<!-- 3&#45;&gt;4 -->\r\n",
       "<g id=\"edge4\" class=\"edge\"><title>3&#45;&gt;4</title>\r\n",
       "<path fill=\"none\" stroke=\"black\" d=\"M143.877,-341.907C139.603,-333.286 135.045,-324.09 130.625,-315.175\"/>\r\n",
       "<polygon fill=\"black\" stroke=\"black\" points=\"133.665,-313.426 126.087,-306.021 127.393,-316.535 133.665,-313.426\"/>\r\n",
       "</g>\r\n",
       "<!-- 7 -->\r\n",
       "<g id=\"node8\" class=\"node\"><title>7</title>\r\n",
       "<polygon fill=\"none\" stroke=\"black\" points=\"273.5,-298.5 172.5,-298.5 172.5,-230.5 273.5,-230.5 273.5,-298.5\"/>\r\n",
       "<text text-anchor=\"middle\" x=\"223\" y=\"-283.3\" font-family=\"Times New Roman,serif\" font-size=\"14.00\">gini = 0.0</text>\r\n",
       "<text text-anchor=\"middle\" x=\"223\" y=\"-268.3\" font-family=\"Times New Roman,serif\" font-size=\"14.00\">samples = 2</text>\r\n",
       "<text text-anchor=\"middle\" x=\"223\" y=\"-253.3\" font-family=\"Times New Roman,serif\" font-size=\"14.00\">value = [0, 2]</text>\r\n",
       "<text text-anchor=\"middle\" x=\"223\" y=\"-238.3\" font-family=\"Times New Roman,serif\" font-size=\"14.00\">class = present</text>\r\n",
       "</g>\r\n",
       "<!-- 3&#45;&gt;7 -->\r\n",
       "<g id=\"edge7\" class=\"edge\"><title>3&#45;&gt;7</title>\r\n",
       "<path fill=\"none\" stroke=\"black\" d=\"M184.47,-341.907C190.034,-330.873 196.073,-318.898 201.683,-307.773\"/>\r\n",
       "<polygon fill=\"black\" stroke=\"black\" points=\"204.897,-309.172 206.275,-298.667 198.647,-306.02 204.897,-309.172\"/>\r\n",
       "</g>\r\n",
       "<!-- 5 -->\r\n",
       "<g id=\"node6\" class=\"node\"><title>5</title>\r\n",
       "<polygon fill=\"none\" stroke=\"black\" points=\"96,-179.5 0,-179.5 0,-111.5 96,-111.5 96,-179.5\"/>\r\n",
       "<text text-anchor=\"middle\" x=\"48\" y=\"-164.3\" font-family=\"Times New Roman,serif\" font-size=\"14.00\">gini = 0.0</text>\r\n",
       "<text text-anchor=\"middle\" x=\"48\" y=\"-149.3\" font-family=\"Times New Roman,serif\" font-size=\"14.00\">samples = 3</text>\r\n",
       "<text text-anchor=\"middle\" x=\"48\" y=\"-134.3\" font-family=\"Times New Roman,serif\" font-size=\"14.00\">value = [3, 0]</text>\r\n",
       "<text text-anchor=\"middle\" x=\"48\" y=\"-119.3\" font-family=\"Times New Roman,serif\" font-size=\"14.00\">class = absent</text>\r\n",
       "</g>\r\n",
       "<!-- 4&#45;&gt;5 -->\r\n",
       "<g id=\"edge5\" class=\"edge\"><title>4&#45;&gt;5</title>\r\n",
       "<path fill=\"none\" stroke=\"black\" d=\"M85.8772,-222.907C80.4071,-211.873 74.4707,-199.898 68.9557,-188.773\"/>\r\n",
       "<polygon fill=\"black\" stroke=\"black\" points=\"72.0191,-187.072 64.4417,-179.667 65.7474,-190.181 72.0191,-187.072\"/>\r\n",
       "</g>\r\n",
       "<!-- 6 -->\r\n",
       "<g id=\"node7\" class=\"node\"><title>6</title>\r\n",
       "<polygon fill=\"none\" stroke=\"black\" points=\"215.5,-179.5 114.5,-179.5 114.5,-111.5 215.5,-111.5 215.5,-179.5\"/>\r\n",
       "<text text-anchor=\"middle\" x=\"165\" y=\"-164.3\" font-family=\"Times New Roman,serif\" font-size=\"14.00\">gini = 0.0</text>\r\n",
       "<text text-anchor=\"middle\" x=\"165\" y=\"-149.3\" font-family=\"Times New Roman,serif\" font-size=\"14.00\">samples = 1</text>\r\n",
       "<text text-anchor=\"middle\" x=\"165\" y=\"-134.3\" font-family=\"Times New Roman,serif\" font-size=\"14.00\">value = [0, 1]</text>\r\n",
       "<text text-anchor=\"middle\" x=\"165\" y=\"-119.3\" font-family=\"Times New Roman,serif\" font-size=\"14.00\">class = present</text>\r\n",
       "</g>\r\n",
       "<!-- 4&#45;&gt;6 -->\r\n",
       "<g id=\"edge6\" class=\"edge\"><title>4&#45;&gt;6</title>\r\n",
       "<path fill=\"none\" stroke=\"black\" d=\"M126.47,-222.907C132.034,-211.873 138.073,-199.898 143.683,-188.773\"/>\r\n",
       "<polygon fill=\"black\" stroke=\"black\" points=\"146.897,-190.172 148.275,-179.667 140.647,-187.02 146.897,-190.172\"/>\r\n",
       "</g>\r\n",
       "<!-- 10 -->\r\n",
       "<g id=\"node11\" class=\"node\"><title>10</title>\r\n",
       "<polygon fill=\"none\" stroke=\"black\" points=\"440,-417.5 344,-417.5 344,-349.5 440,-349.5 440,-417.5\"/>\r\n",
       "<text text-anchor=\"middle\" x=\"392\" y=\"-402.3\" font-family=\"Times New Roman,serif\" font-size=\"14.00\">gini = 0.0</text>\r\n",
       "<text text-anchor=\"middle\" x=\"392\" y=\"-387.3\" font-family=\"Times New Roman,serif\" font-size=\"14.00\">samples = 1</text>\r\n",
       "<text text-anchor=\"middle\" x=\"392\" y=\"-372.3\" font-family=\"Times New Roman,serif\" font-size=\"14.00\">value = [1, 0]</text>\r\n",
       "<text text-anchor=\"middle\" x=\"392\" y=\"-357.3\" font-family=\"Times New Roman,serif\" font-size=\"14.00\">class = absent</text>\r\n",
       "</g>\r\n",
       "<!-- 9&#45;&gt;10 -->\r\n",
       "<g id=\"edge10\" class=\"edge\"><title>9&#45;&gt;10</title>\r\n",
       "<path fill=\"none\" stroke=\"black\" d=\"M431.183,-460.907C425.525,-449.873 419.383,-437.898 413.678,-426.773\"/>\r\n",
       "<polygon fill=\"black\" stroke=\"black\" points=\"416.686,-424.968 409.009,-417.667 410.458,-428.162 416.686,-424.968\"/>\r\n",
       "</g>\r\n",
       "<!-- 11 -->\r\n",
       "<g id=\"node12\" class=\"node\"><title>11</title>\r\n",
       "<polygon fill=\"none\" stroke=\"black\" points=\"559.5,-417.5 458.5,-417.5 458.5,-349.5 559.5,-349.5 559.5,-417.5\"/>\r\n",
       "<text text-anchor=\"middle\" x=\"509\" y=\"-402.3\" font-family=\"Times New Roman,serif\" font-size=\"14.00\">gini = 0.0</text>\r\n",
       "<text text-anchor=\"middle\" x=\"509\" y=\"-387.3\" font-family=\"Times New Roman,serif\" font-size=\"14.00\">samples = 6</text>\r\n",
       "<text text-anchor=\"middle\" x=\"509\" y=\"-372.3\" font-family=\"Times New Roman,serif\" font-size=\"14.00\">value = [0, 6]</text>\r\n",
       "<text text-anchor=\"middle\" x=\"509\" y=\"-357.3\" font-family=\"Times New Roman,serif\" font-size=\"14.00\">class = present</text>\r\n",
       "</g>\r\n",
       "<!-- 9&#45;&gt;11 -->\r\n",
       "<g id=\"edge11\" class=\"edge\"><title>9&#45;&gt;11</title>\r\n",
       "<path fill=\"none\" stroke=\"black\" d=\"M471.776,-460.907C477.152,-449.873 482.986,-437.898 488.406,-426.773\"/>\r\n",
       "<polygon fill=\"black\" stroke=\"black\" points=\"491.608,-428.19 492.842,-417.667 485.316,-425.124 491.608,-428.19\"/>\r\n",
       "</g>\r\n",
       "<!-- 13 -->\r\n",
       "<g id=\"node14\" class=\"node\"><title>13</title>\r\n",
       "<polygon fill=\"none\" stroke=\"black\" points=\"676,-544 578,-544 578,-461 676,-461 676,-544\"/>\r\n",
       "<text text-anchor=\"middle\" x=\"627\" y=\"-528.8\" font-family=\"Times New Roman,serif\" font-size=\"14.00\">X[0] &lt;= 79.5</text>\r\n",
       "<text text-anchor=\"middle\" x=\"627\" y=\"-513.8\" font-family=\"Times New Roman,serif\" font-size=\"14.00\">gini = 0.188</text>\r\n",
       "<text text-anchor=\"middle\" x=\"627\" y=\"-498.8\" font-family=\"Times New Roman,serif\" font-size=\"14.00\">samples = 19</text>\r\n",
       "<text text-anchor=\"middle\" x=\"627\" y=\"-483.8\" font-family=\"Times New Roman,serif\" font-size=\"14.00\">value = [17, 2]</text>\r\n",
       "<text text-anchor=\"middle\" x=\"627\" y=\"-468.8\" font-family=\"Times New Roman,serif\" font-size=\"14.00\">class = absent</text>\r\n",
       "</g>\r\n",
       "<!-- 12&#45;&gt;13 -->\r\n",
       "<g id=\"edge13\" class=\"edge\"><title>12&#45;&gt;13</title>\r\n",
       "<path fill=\"none\" stroke=\"black\" d=\"M627,-579.907C627,-571.649 627,-562.864 627,-554.302\"/>\r\n",
       "<polygon fill=\"black\" stroke=\"black\" points=\"630.5,-554.021 627,-544.021 623.5,-554.021 630.5,-554.021\"/>\r\n",
       "</g>\r\n",
       "<!-- 22 -->\r\n",
       "<g id=\"node23\" class=\"node\"><title>22</title>\r\n",
       "<polygon fill=\"none\" stroke=\"black\" points=\"792,-536.5 694,-536.5 694,-468.5 792,-468.5 792,-536.5\"/>\r\n",
       "<text text-anchor=\"middle\" x=\"743\" y=\"-521.3\" font-family=\"Times New Roman,serif\" font-size=\"14.00\">gini = 0.0</text>\r\n",
       "<text text-anchor=\"middle\" x=\"743\" y=\"-506.3\" font-family=\"Times New Roman,serif\" font-size=\"14.00\">samples = 22</text>\r\n",
       "<text text-anchor=\"middle\" x=\"743\" y=\"-491.3\" font-family=\"Times New Roman,serif\" font-size=\"14.00\">value = [22, 0]</text>\r\n",
       "<text text-anchor=\"middle\" x=\"743\" y=\"-476.3\" font-family=\"Times New Roman,serif\" font-size=\"14.00\">class = absent</text>\r\n",
       "</g>\r\n",
       "<!-- 12&#45;&gt;22 -->\r\n",
       "<g id=\"edge22\" class=\"edge\"><title>12&#45;&gt;22</title>\r\n",
       "<path fill=\"none\" stroke=\"black\" d=\"M667.246,-579.907C678.842,-568.211 691.487,-555.457 703.065,-543.78\"/>\r\n",
       "<polygon fill=\"black\" stroke=\"black\" points=\"705.561,-546.233 710.117,-536.667 700.59,-541.304 705.561,-546.233\"/>\r\n",
       "</g>\r\n",
       "<!-- 14 -->\r\n",
       "<g id=\"node15\" class=\"node\"><title>14</title>\r\n",
       "<polygon fill=\"none\" stroke=\"black\" points=\"676,-417.5 578,-417.5 578,-349.5 676,-349.5 676,-417.5\"/>\r\n",
       "<text text-anchor=\"middle\" x=\"627\" y=\"-402.3\" font-family=\"Times New Roman,serif\" font-size=\"14.00\">gini = 0.0</text>\r\n",
       "<text text-anchor=\"middle\" x=\"627\" y=\"-387.3\" font-family=\"Times New Roman,serif\" font-size=\"14.00\">samples = 12</text>\r\n",
       "<text text-anchor=\"middle\" x=\"627\" y=\"-372.3\" font-family=\"Times New Roman,serif\" font-size=\"14.00\">value = [12, 0]</text>\r\n",
       "<text text-anchor=\"middle\" x=\"627\" y=\"-357.3\" font-family=\"Times New Roman,serif\" font-size=\"14.00\">class = absent</text>\r\n",
       "</g>\r\n",
       "<!-- 13&#45;&gt;14 -->\r\n",
       "<g id=\"edge14\" class=\"edge\"><title>13&#45;&gt;14</title>\r\n",
       "<path fill=\"none\" stroke=\"black\" d=\"M627,-460.907C627,-450.204 627,-438.615 627,-427.776\"/>\r\n",
       "<polygon fill=\"black\" stroke=\"black\" points=\"630.5,-427.667 627,-417.667 623.5,-427.667 630.5,-427.667\"/>\r\n",
       "</g>\r\n",
       "<!-- 15 -->\r\n",
       "<g id=\"node16\" class=\"node\"><title>15</title>\r\n",
       "<polygon fill=\"none\" stroke=\"black\" points=\"790,-425 694,-425 694,-342 790,-342 790,-425\"/>\r\n",
       "<text text-anchor=\"middle\" x=\"742\" y=\"-409.8\" font-family=\"Times New Roman,serif\" font-size=\"14.00\">X[0] &lt;= 96.5</text>\r\n",
       "<text text-anchor=\"middle\" x=\"742\" y=\"-394.8\" font-family=\"Times New Roman,serif\" font-size=\"14.00\">gini = 0.408</text>\r\n",
       "<text text-anchor=\"middle\" x=\"742\" y=\"-379.8\" font-family=\"Times New Roman,serif\" font-size=\"14.00\">samples = 7</text>\r\n",
       "<text text-anchor=\"middle\" x=\"742\" y=\"-364.8\" font-family=\"Times New Roman,serif\" font-size=\"14.00\">value = [5, 2]</text>\r\n",
       "<text text-anchor=\"middle\" x=\"742\" y=\"-349.8\" font-family=\"Times New Roman,serif\" font-size=\"14.00\">class = absent</text>\r\n",
       "</g>\r\n",
       "<!-- 13&#45;&gt;15 -->\r\n",
       "<g id=\"edge15\" class=\"edge\"><title>13&#45;&gt;15</title>\r\n",
       "<path fill=\"none\" stroke=\"black\" d=\"M666.899,-460.907C675.997,-451.651 685.746,-441.732 695.107,-432.209\"/>\r\n",
       "<polygon fill=\"black\" stroke=\"black\" points=\"697.658,-434.606 702.172,-425.021 692.666,-429.699 697.658,-434.606\"/>\r\n",
       "</g>\r\n",
       "<!-- 16 -->\r\n",
       "<g id=\"node17\" class=\"node\"><title>16</title>\r\n",
       "<polygon fill=\"none\" stroke=\"black\" points=\"733.5,-298.5 632.5,-298.5 632.5,-230.5 733.5,-230.5 733.5,-298.5\"/>\r\n",
       "<text text-anchor=\"middle\" x=\"683\" y=\"-283.3\" font-family=\"Times New Roman,serif\" font-size=\"14.00\">gini = 0.0</text>\r\n",
       "<text text-anchor=\"middle\" x=\"683\" y=\"-268.3\" font-family=\"Times New Roman,serif\" font-size=\"14.00\">samples = 1</text>\r\n",
       "<text text-anchor=\"middle\" x=\"683\" y=\"-253.3\" font-family=\"Times New Roman,serif\" font-size=\"14.00\">value = [0, 1]</text>\r\n",
       "<text text-anchor=\"middle\" x=\"683\" y=\"-238.3\" font-family=\"Times New Roman,serif\" font-size=\"14.00\">class = present</text>\r\n",
       "</g>\r\n",
       "<!-- 15&#45;&gt;16 -->\r\n",
       "<g id=\"edge16\" class=\"edge\"><title>15&#45;&gt;16</title>\r\n",
       "<path fill=\"none\" stroke=\"black\" d=\"M721.53,-341.907C715.966,-330.873 709.927,-318.898 704.317,-307.773\"/>\r\n",
       "<polygon fill=\"black\" stroke=\"black\" points=\"707.353,-306.02 699.725,-298.667 701.103,-309.172 707.353,-306.02\"/>\r\n",
       "</g>\r\n",
       "<!-- 17 -->\r\n",
       "<g id=\"node18\" class=\"node\"><title>17</title>\r\n",
       "<polygon fill=\"none\" stroke=\"black\" points=\"848.5,-306 751.5,-306 751.5,-223 848.5,-223 848.5,-306\"/>\r\n",
       "<text text-anchor=\"middle\" x=\"800\" y=\"-290.8\" font-family=\"Times New Roman,serif\" font-size=\"14.00\">X[0] &lt;= 143.5</text>\r\n",
       "<text text-anchor=\"middle\" x=\"800\" y=\"-275.8\" font-family=\"Times New Roman,serif\" font-size=\"14.00\">gini = 0.278</text>\r\n",
       "<text text-anchor=\"middle\" x=\"800\" y=\"-260.8\" font-family=\"Times New Roman,serif\" font-size=\"14.00\">samples = 6</text>\r\n",
       "<text text-anchor=\"middle\" x=\"800\" y=\"-245.8\" font-family=\"Times New Roman,serif\" font-size=\"14.00\">value = [5, 1]</text>\r\n",
       "<text text-anchor=\"middle\" x=\"800\" y=\"-230.8\" font-family=\"Times New Roman,serif\" font-size=\"14.00\">class = absent</text>\r\n",
       "</g>\r\n",
       "<!-- 15&#45;&gt;17 -->\r\n",
       "<g id=\"edge17\" class=\"edge\"><title>15&#45;&gt;17</title>\r\n",
       "<path fill=\"none\" stroke=\"black\" d=\"M762.123,-341.907C766.397,-333.286 770.955,-324.09 775.375,-315.175\"/>\r\n",
       "<polygon fill=\"black\" stroke=\"black\" points=\"778.607,-316.535 779.913,-306.021 772.335,-313.426 778.607,-316.535\"/>\r\n",
       "</g>\r\n",
       "<!-- 18 -->\r\n",
       "<g id=\"node19\" class=\"node\"><title>18</title>\r\n",
       "<polygon fill=\"none\" stroke=\"black\" points=\"790,-179.5 694,-179.5 694,-111.5 790,-111.5 790,-179.5\"/>\r\n",
       "<text text-anchor=\"middle\" x=\"742\" y=\"-164.3\" font-family=\"Times New Roman,serif\" font-size=\"14.00\">gini = 0.0</text>\r\n",
       "<text text-anchor=\"middle\" x=\"742\" y=\"-149.3\" font-family=\"Times New Roman,serif\" font-size=\"14.00\">samples = 4</text>\r\n",
       "<text text-anchor=\"middle\" x=\"742\" y=\"-134.3\" font-family=\"Times New Roman,serif\" font-size=\"14.00\">value = [4, 0]</text>\r\n",
       "<text text-anchor=\"middle\" x=\"742\" y=\"-119.3\" font-family=\"Times New Roman,serif\" font-size=\"14.00\">class = absent</text>\r\n",
       "</g>\r\n",
       "<!-- 17&#45;&gt;18 -->\r\n",
       "<g id=\"edge18\" class=\"edge\"><title>17&#45;&gt;18</title>\r\n",
       "<path fill=\"none\" stroke=\"black\" d=\"M779.877,-222.907C774.407,-211.873 768.471,-199.898 762.956,-188.773\"/>\r\n",
       "<polygon fill=\"black\" stroke=\"black\" points=\"766.019,-187.072 758.442,-179.667 759.747,-190.181 766.019,-187.072\"/>\r\n",
       "</g>\r\n",
       "<!-- 19 -->\r\n",
       "<g id=\"node20\" class=\"node\"><title>19</title>\r\n",
       "<polygon fill=\"none\" stroke=\"black\" points=\"905.5,-187 808.5,-187 808.5,-104 905.5,-104 905.5,-187\"/>\r\n",
       "<text text-anchor=\"middle\" x=\"857\" y=\"-171.8\" font-family=\"Times New Roman,serif\" font-size=\"14.00\">X[0] &lt;= 166.0</text>\r\n",
       "<text text-anchor=\"middle\" x=\"857\" y=\"-156.8\" font-family=\"Times New Roman,serif\" font-size=\"14.00\">gini = 0.5</text>\r\n",
       "<text text-anchor=\"middle\" x=\"857\" y=\"-141.8\" font-family=\"Times New Roman,serif\" font-size=\"14.00\">samples = 2</text>\r\n",
       "<text text-anchor=\"middle\" x=\"857\" y=\"-126.8\" font-family=\"Times New Roman,serif\" font-size=\"14.00\">value = [1, 1]</text>\r\n",
       "<text text-anchor=\"middle\" x=\"857\" y=\"-111.8\" font-family=\"Times New Roman,serif\" font-size=\"14.00\">class = absent</text>\r\n",
       "</g>\r\n",
       "<!-- 17&#45;&gt;19 -->\r\n",
       "<g id=\"edge19\" class=\"edge\"><title>17&#45;&gt;19</title>\r\n",
       "<path fill=\"none\" stroke=\"black\" d=\"M819.776,-222.907C823.976,-214.286 828.456,-205.09 832.799,-196.175\"/>\r\n",
       "<polygon fill=\"black\" stroke=\"black\" points=\"836.026,-197.544 837.259,-187.021 829.733,-194.478 836.026,-197.544\"/>\r\n",
       "</g>\r\n",
       "<!-- 20 -->\r\n",
       "<g id=\"node21\" class=\"node\"><title>20</title>\r\n",
       "<polygon fill=\"none\" stroke=\"black\" points=\"848.5,-68 747.5,-68 747.5,-0 848.5,-0 848.5,-68\"/>\r\n",
       "<text text-anchor=\"middle\" x=\"798\" y=\"-52.8\" font-family=\"Times New Roman,serif\" font-size=\"14.00\">gini = 0.0</text>\r\n",
       "<text text-anchor=\"middle\" x=\"798\" y=\"-37.8\" font-family=\"Times New Roman,serif\" font-size=\"14.00\">samples = 1</text>\r\n",
       "<text text-anchor=\"middle\" x=\"798\" y=\"-22.8\" font-family=\"Times New Roman,serif\" font-size=\"14.00\">value = [0, 1]</text>\r\n",
       "<text text-anchor=\"middle\" x=\"798\" y=\"-7.8\" font-family=\"Times New Roman,serif\" font-size=\"14.00\">class = present</text>\r\n",
       "</g>\r\n",
       "<!-- 19&#45;&gt;20 -->\r\n",
       "<g id=\"edge20\" class=\"edge\"><title>19&#45;&gt;20</title>\r\n",
       "<path fill=\"none\" stroke=\"black\" d=\"M835.031,-103.726C830.362,-95.0615 825.424,-85.8962 820.727,-77.1802\"/>\r\n",
       "<polygon fill=\"black\" stroke=\"black\" points=\"823.767,-75.4428 815.942,-68.2996 817.604,-78.7632 823.767,-75.4428\"/>\r\n",
       "</g>\r\n",
       "<!-- 21 -->\r\n",
       "<g id=\"node22\" class=\"node\"><title>21</title>\r\n",
       "<polygon fill=\"none\" stroke=\"black\" points=\"963,-68 867,-68 867,-0 963,-0 963,-68\"/>\r\n",
       "<text text-anchor=\"middle\" x=\"915\" y=\"-52.8\" font-family=\"Times New Roman,serif\" font-size=\"14.00\">gini = 0.0</text>\r\n",
       "<text text-anchor=\"middle\" x=\"915\" y=\"-37.8\" font-family=\"Times New Roman,serif\" font-size=\"14.00\">samples = 1</text>\r\n",
       "<text text-anchor=\"middle\" x=\"915\" y=\"-22.8\" font-family=\"Times New Roman,serif\" font-size=\"14.00\">value = [1, 0]</text>\r\n",
       "<text text-anchor=\"middle\" x=\"915\" y=\"-7.8\" font-family=\"Times New Roman,serif\" font-size=\"14.00\">class = absent</text>\r\n",
       "</g>\r\n",
       "<!-- 19&#45;&gt;21 -->\r\n",
       "<g id=\"edge21\" class=\"edge\"><title>19&#45;&gt;21</title>\r\n",
       "<path fill=\"none\" stroke=\"black\" d=\"M878.597,-103.726C883.187,-95.0615 888.041,-85.8962 892.658,-77.1802\"/>\r\n",
       "<polygon fill=\"black\" stroke=\"black\" points=\"895.774,-78.7748 897.362,-68.2996 889.588,-75.4982 895.774,-78.7748\"/>\r\n",
       "</g>\r\n",
       "</g>\r\n",
       "</svg>\r\n"
      ],
      "text/plain": [
       "<graphviz.files.Source at 0x9b8ce5f388>"
      ]
     },
     "execution_count": 90,
     "metadata": {},
     "output_type": "execute_result"
    }
   ],
   "source": [
    "dot_data = tree.export_graphviz(dtc, class_names=['absent', 'present'], out_file=None)\n",
    "graph = graphviz.Source(dot_data)\n",
    "graph"
   ]
  },
  {
   "cell_type": "code",
   "execution_count": null,
   "metadata": {},
   "outputs": [],
   "source": []
  }
 ],
 "metadata": {
  "kernelspec": {
   "display_name": "Python 3",
   "language": "python",
   "name": "python3"
  },
  "language_info": {
   "codemirror_mode": {
    "name": "ipython",
    "version": 3
   },
   "file_extension": ".py",
   "mimetype": "text/x-python",
   "name": "python",
   "nbconvert_exporter": "python",
   "pygments_lexer": "ipython3",
   "version": "3.7.6"
  }
 },
 "nbformat": 4,
 "nbformat_minor": 4
}
